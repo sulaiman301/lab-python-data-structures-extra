{
 "cells": [
  {
   "cell_type": "markdown",
   "metadata": {},
   "source": [
    "# Lab | Data Structures "
   ]
  },
  {
   "cell_type": "markdown",
   "metadata": {},
   "source": [
    "## Exercise 1: Working with Lists"
   ]
  },
  {
   "cell_type": "markdown",
   "metadata": {},
   "source": [
    "Imagine you are building a program for a teacher who wants to track the progress of their students throughout the semester. The teacher wants to input the grades of each student one by one, and get a summary of their performance. There are in total 5 students. You are tasked with building the program that will allow the teacher to do this easily.\n",
    "\n",
    "The program will prompt the teacher to enter the grades of each student. Once the teacher has entered all the grades, the program will calculate the total sum of the grades and display it on the screen. Then, the program will create a new list by selecting only the grades of the first, third, and fifth students entered by the teacher, and sort them in ascending order.\n",
    "\n",
    "Finally, the program will print out the new list, along with its length and the number of occurrences of the score 5 in the list. This will give the teacher a good overview of the performance of the selected students, and help them identify any potential issues early on."
   ]
  },
  {
   "cell_type": "markdown",
   "metadata": {},
   "source": [
    "*Hint:*\n",
    "- You can use the input() function to ask the user to enter their information.\n",
    "- Look for list methods to perform the tasks. \n",
    "- Remember, it is possible to get a part of the sequence using:\n",
    "\n",
    "    ```python\n",
    "    sequence[x:y:z]\n",
    "    ```\n",
    "    where x, y, z are integers.\n",
    "\n",
    "    The above returns a new sequence with the following characteristics:\n",
    "\n",
    "    - A sequence with the same type as the original (a slice of a list is a list, a slice of a tuple is a tuple, and a slice of a string is a string).\n",
    "    - A sequence with elements from `sequence [x]` to `sequence [y-1]` (does not include a sequence [y]). By skipping `z` elements each time, it can be omitted if ` z = 1`.\n"
   ]
  },
  {
   "cell_type": "markdown",
   "metadata": {},
   "source": [
    "*Recommended External Resources:*\n",
    "- *[Python Lists](https://www.w3schools.com/python/python_lists.asp)*\n",
    "- *[Python List Methods](https://www.w3schools.com/python/python_ref_list.asp)*\n",
    "- *[Python Built-in Functions](https://docs.python.org/3/library/functions.html)*\n"
   ]
  },
  {
   "cell_type": "code",
   "execution_count": 1,
   "metadata": {},
   "outputs": [
    {
     "name": "stdout",
     "output_type": "stream",
     "text": [
      "Please enter a grade between 0 and 10.\n",
      "Please enter a grade between 0 and 10.\n",
      "Please enter a grade between 0 and 10.\n",
      "Please enter a grade between 0 and 10.\n",
      "Please enter a grade between 0 and 10.\n",
      "Please enter a grade between 0 and 10.\n",
      "Please enter a grade between 0 and 10.\n",
      "Please enter a grade between 0 and 10.\n",
      "Please enter a grade between 0 and 10.\n",
      "Please enter a grade between 0 and 10.\n",
      "Please enter a grade between 0 and 10.\n",
      "Please enter a grade between 0 and 10.\n",
      "Please enter a grade between 0 and 10.\n",
      "Please enter a grade between 0 and 10.\n",
      "Please enter a grade between 0 and 10.\n",
      "Please enter a grade between 0 and 10.\n",
      "Please enter a grade between 0 and 10.\n",
      "Please enter a grade between 0 and 10.\n",
      "Please enter a grade between 0 and 10.\n",
      "Please enter a grade between 0 and 10.\n",
      "Please enter a grade between 0 and 10.\n",
      "Please enter a grade between 0 and 10.\n",
      "Please enter a grade between 0 and 10.\n",
      "Please enter a grade between 0 and 10.\n",
      "Please enter a grade between 0 and 10.\n",
      "Please enter a grade between 0 and 10.\n",
      "Please enter a grade between 0 and 10.\n",
      "Please enter a grade between 0 and 10.\n",
      "Please enter a grade between 0 and 10.\n",
      "Please enter a grade between 0 and 10.\n",
      "Please enter a grade between 0 and 10.\n",
      "Please enter a grade between 0 and 10.\n",
      "Please enter a grade between 0 and 10.\n",
      "Please enter a grade between 0 and 10.\n",
      "Please enter a grade between 0 and 10.\n",
      "Please enter a grade between 0 and 10.\n",
      "Please enter a grade between 0 and 10.\n",
      "Please enter a grade between 0 and 10.\n",
      "Please enter a grade between 0 and 10.\n",
      "Please enter a grade between 0 and 10.\n",
      "Please enter a grade between 0 and 10.\n",
      "Please enter a grade between 0 and 10.\n",
      "Please enter a grade between 0 and 10.\n",
      "Please enter a grade between 0 and 10.\n",
      "Please enter a grade between 0 and 10.\n",
      "Please enter a grade between 0 and 10.\n",
      "Please enter a grade between 0 and 10.\n",
      "Please enter a grade between 0 and 10.\n",
      "Please enter a grade between 0 and 10.\n",
      "Please enter a grade between 0 and 10.\n",
      "Please enter a grade between 0 and 10.\n",
      "Please enter a grade between 0 and 10.\n",
      "Please enter a grade between 0 and 10.\n",
      "Please enter a grade between 0 and 10.\n",
      "Please enter a grade between 0 and 10.\n",
      "Please enter a grade between 0 and 10.\n",
      "Please enter a grade between 0 and 10.\n",
      "Please enter a grade between 0 and 10.\n",
      "Please enter a grade between 0 and 10.\n",
      "Please enter a grade between 0 and 10.\n",
      "Please enter a grade between 0 and 10.\n",
      "Please enter a grade between 0 and 10.\n",
      "Please enter a grade between 0 and 10.\n",
      "Please enter a grade between 0 and 10.\n",
      "Please enter a grade between 0 and 10.\n",
      "Please enter a grade between 0 and 10.\n",
      "Please enter a grade between 0 and 10.\n",
      "Please enter a grade between 0 and 10.\n",
      "Please enter a grade between 0 and 10.\n",
      "Please enter a grade between 0 and 10.\n",
      "Please enter a grade between 0 and 10.\n",
      "Please enter a grade between 0 and 10.\n",
      "Please enter a grade between 0 and 10.\n",
      "Please enter a grade between 0 and 10.\n",
      "Please enter a grade between 0 and 10.\n",
      "Please enter a grade between 0 and 10.\n",
      "Please enter a grade between 0 and 10.\n",
      "Please enter a grade between 0 and 10.\n",
      "Please enter a grade between 0 and 10.\n",
      "Please enter a grade between 0 and 10.\n",
      "Please enter a grade between 0 and 10.\n",
      "Please enter a grade between 0 and 10.\n",
      "Please enter a grade between 0 and 10.\n",
      "Please enter a grade between 0 and 10.\n",
      "Please enter a grade between 0 and 10.\n",
      "Please enter a grade between 0 and 10.\n",
      "Please enter a grade between 0 and 10.\n",
      "Please enter a grade between 0 and 10.\n",
      "Please enter a grade between 0 and 10.\n",
      "Please enter a grade between 0 and 10.\n",
      "Please enter a grade between 0 and 10.\n",
      "Please enter a grade between 0 and 10.\n",
      "Please enter a grade between 0 and 10.\n",
      "Please enter a grade between 0 and 10.\n",
      "Please enter a grade between 0 and 10.\n",
      "Please enter a grade between 0 and 10.\n",
      "Please enter a grade between 0 and 10.\n",
      "Please enter a grade between 0 and 10.\n",
      "Please enter a grade between 0 and 10.\n",
      "Please enter a grade between 0 and 10.\n",
      "Please enter a grade between 0 and 10.\n",
      "Please enter a grade between 0 and 10.\n",
      "Please enter a grade between 0 and 10.\n",
      "Please enter a grade between 0 and 10.\n",
      "Please enter a grade between 0 and 10.\n",
      "Please enter a grade between 0 and 10.\n",
      "Please enter a grade between 0 and 10.\n",
      "Please enter a grade between 0 and 10.\n",
      "Please enter a grade between 0 and 10.\n",
      "Please enter a grade between 0 and 10.\n",
      "Please enter a grade between 0 and 10.\n",
      "Please enter a grade between 0 and 10.\n",
      "Please enter a grade between 0 and 10.\n",
      "Please enter a grade between 0 and 10.\n",
      "Please enter a grade between 0 and 10.\n",
      "Please enter a grade between 0 and 10.\n",
      "Please enter a grade between 0 and 10.\n",
      "Please enter a grade between 0 and 10.\n",
      "Please enter a grade between 0 and 10.\n",
      "Please enter a grade between 0 and 10.\n",
      "Please enter a grade between 0 and 10.\n",
      "Please enter a grade between 0 and 10.\n",
      "Please enter a grade between 0 and 10.\n",
      "Please enter a grade between 0 and 10.\n",
      "Please enter a grade between 0 and 10.\n",
      "Please enter a grade between 0 and 10.\n",
      "Please enter a grade between 0 and 10.\n",
      "Please enter a grade between 0 and 10.\n",
      "Please enter a grade between 0 and 10.\n",
      "Please enter a grade between 0 and 10.\n",
      "Please enter a grade between 0 and 10.\n",
      "Please enter a grade between 0 and 10.\n",
      "Please enter a grade between 0 and 10.\n",
      "Please enter a grade between 0 and 10.\n",
      "Please enter a grade between 0 and 10.\n",
      "Please enter a grade between 0 and 10.\n",
      "Please enter a grade between 0 and 10.\n",
      "Please enter a grade between 0 and 10.\n",
      "Please enter a grade between 0 and 10.\n",
      "Total sum of the grades: 38.0\n",
      "Sorted grades of 1st, 3rd, and 5th students: [7.0, 8.0, 8.0]\n",
      "Length of the new list: 3\n",
      "Number of occurrences of the score 5: 0\n"
     ]
    }
   ],
   "source": [
    "# Function to get valid numeric input\n",
    "def get_valid_grade(prompt):\n",
    "    while True:\n",
    "        try:\n",
    "            grade = float(input(prompt))\n",
    "            if 0 <= grade <= 10:  # Assuming grades are between 0 and 10\n",
    "                return grade\n",
    "            else:\n",
    "                print(\"Please enter a grade between 0 and 10.\")\n",
    "        except ValueError:\n",
    "            print(\"Invalid input. Please enter a valid number.\")\n",
    "\n",
    "# Initialize an empty list to store grades\n",
    "grades = []\n",
    "\n",
    "# Prompt the teacher to enter grades for 5 students\n",
    "for i in range(1, 6):\n",
    "    grade = get_valid_grade(f\"Enter the grade for student {i}: \")\n",
    "    grades.append(grade)\n",
    "\n",
    "# Calculate the total sum of the grades\n",
    "total_sum = sum(grades)\n",
    "print(f\"Total sum of the grades: {total_sum}\")\n",
    "\n",
    "# Select grades of the 1st, 3rd, and 5th students (indices 0, 2, and 4)\n",
    "# Using list slicing to select the desired elements\n",
    "selected_grades = [grades[i] for i in range(len(grades)) if i in [0, 2, 4]]\n",
    "\n",
    "# Sort the selected grades in ascending order\n",
    "selected_grades.sort()\n",
    "\n",
    "# Print the new list, its length, and the number of occurrences of the score 5\n",
    "print(f\"Sorted grades of 1st, 3rd, and 5th students: {selected_grades}\")\n",
    "print(f\"Length of the new list: {len(selected_grades)}\")\n",
    "print(f\"Number of occurrences of the score 5: {selected_grades.count(5)}\")\n"
   ]
  },
  {
   "cell_type": "code",
   "execution_count": 2,
   "metadata": {},
   "outputs": [
    {
     "name": "stdout",
     "output_type": "stream",
     "text": [
      "Sorted grades of 1st, 3rd, and 5th students: [7.0, 8.0, 8.0]\n",
      "Length of the new list: 3\n",
      "Number of occurrences of the score 5: 0\n"
     ]
    }
   ],
   "source": [
    "# Select grades of the 1st, 3rd, and 5th students (indices 0, 2, and 4) using slicing\n",
    "selected_grades = grades[0:5:2]  # This slice returns the grades at indices 0, 2, and 4\n",
    "\n",
    "# Sort the selected grades in ascending order\n",
    "selected_grades.sort()\n",
    "\n",
    "# Print the new list, its length, and the number of occurrences of the score 5\n",
    "print(f\"Sorted grades of 1st, 3rd, and 5th students: {selected_grades}\")\n",
    "print(f\"Length of the new list: {len(selected_grades)}\")\n",
    "print(f\"Number of occurrences of the score 5: {selected_grades.count(5)}\")\n"
   ]
  },
  {
   "cell_type": "markdown",
   "metadata": {},
   "source": [
    "## Exercise 2: Tuples"
   ]
  },
  {
   "cell_type": "markdown",
   "metadata": {},
   "source": [
    "Imagine you're running a fruit stand and want to keep track of your inventory. Write a Python program that does the following:\n",
    "\n",
    "- Initializes a tuple with 5 different types of fruit.\n",
    "- Outputs the first and last elements of the tuple, so you can see the full range of fruits the store offers.\n",
    "- Replaces the second element of the tuple with a new fruit that the store has recently received, and prints the updated tuple so you can see the changes.\n",
    "- Concatenates a new tuple containing 2 additional fruits to the original tuple, so you can add them to the store inventory, and prints the resulting tuple to see the updated inventory.\n",
    "- Splits the resulting tuple into 2 tuples of 3 elements each (the first tuple contains the first 3 elements, and the second tuple contains the last 3 elements), so you can organize the inventory more effectively.\n",
    "- Combines the 2 tuples from the previous step with the original tuple into a new tuple, and prints the resulting tuple and its length, so you can see the final inventory after all the changes."
   ]
  },
  {
   "cell_type": "markdown",
   "metadata": {},
   "source": [
    "*Recommended External Resources: [Python Tuples Examples and Methods](https://www.w3schools.com/python/python_tuples.asp)*\n",
    "\n"
   ]
  },
  {
   "cell_type": "code",
   "execution_count": 3,
   "metadata": {},
   "outputs": [
    {
     "name": "stdout",
     "output_type": "stream",
     "text": [
      "First fruit: apple\n",
      "Last fruit: elderberry\n",
      "Updated tuple: ('apple', 'fig', 'cherry', 'date', 'elderberry')\n",
      "Expanded inventory: ('apple', 'fig', 'cherry', 'date', 'elderberry', 'grape', 'honeydew')\n",
      "First 3 fruits: ('apple', 'fig', 'cherry')\n",
      "Last 3 fruits: ('date', 'elderberry', 'grape', 'honeydew')\n",
      "Final inventory: ('apple', 'fig', 'cherry', 'date', 'elderberry', 'grape', 'honeydew')\n",
      "Length of the final inventory: 7\n"
     ]
    }
   ],
   "source": [
    "# Initialize a tuple with 5 different types of fruit\n",
    "fruit_tuple = ('apple', 'banana', 'cherry', 'date', 'elderberry')\n",
    "\n",
    "# Output the first and last elements of the tuple\n",
    "print(\"First fruit:\", fruit_tuple[0])\n",
    "print(\"Last fruit:\", fruit_tuple[-1])\n",
    "\n",
    "# Replace the second element of the tuple with a new fruit\n",
    "new_fruit = 'fig'\n",
    "updated_fruit_tuple = fruit_tuple[:1] + (new_fruit,) + fruit_tuple[2:]\n",
    "\n",
    "# Print the updated tuple\n",
    "print(\"Updated tuple:\", updated_fruit_tuple)\n",
    "\n",
    "# Concatenate a new tuple containing 2 additional fruits to the original tuple\n",
    "additional_fruits = ('grape', 'honeydew')\n",
    "expanded_fruit_tuple = updated_fruit_tuple + additional_fruits\n",
    "\n",
    "# Print the resulting tuple\n",
    "print(\"Expanded inventory:\", expanded_fruit_tuple)\n",
    "\n",
    "# Split the resulting tuple into 2 tuples of 3 elements each\n",
    "first_three = expanded_fruit_tuple[:3]\n",
    "last_three = expanded_fruit_tuple[3:]\n",
    "\n",
    "# Print the two new tuples\n",
    "print(\"First 3 fruits:\", first_three)\n",
    "print(\"Last 3 fruits:\", last_three)\n",
    "\n",
    "# Combine the 2 tuples with the original tuple into a new tuple\n",
    "final_inventory = first_three + last_three\n",
    "\n",
    "# Print the final inventory tuple and its length\n",
    "print(\"Final inventory:\", final_inventory)\n",
    "print(\"Length of the final inventory:\", len(final_inventory))\n"
   ]
  },
  {
   "cell_type": "markdown",
   "metadata": {},
   "source": [
    "## Exercise 3: Sets"
   ]
  },
  {
   "cell_type": "markdown",
   "metadata": {},
   "source": [
    "Imagine you are a data analyst working for a literature museum. Your manager has given you two poems to analyze, and she wants you to write a Python program to extract useful information from them.\n",
    "\n",
    "Your program should:\n",
    "\n",
    "- Create two sets, one for each poem, containing all unique words in both poems (ignoring case and punctuation).\n",
    "- Print the number of unique words in each set.\n",
    "- Identify and print the unique words present in the first poem but not in the second one.\n",
    "- Identify and print the unique words present in the second poem but not in the first one.\n",
    "- Identify and print the unique words present in both poems and print it in alphabetical order."
   ]
  },
  {
   "cell_type": "markdown",
   "metadata": {},
   "source": [
    "*Recommended External Resources:*\n",
    "- *[Python Sets](https://www.w3schools.com/python/python_sets.asp)* \n",
    "- *[Python Set Methods](https://www.w3schools.com/python/python_ref_set.asp)*\n",
    "- *[Python String Methods](https://www.w3schools.com/python/python_ref_string.asp)*\n"
   ]
  },
  {
   "cell_type": "code",
   "execution_count": null,
   "metadata": {},
   "outputs": [],
   "source": [
    "poem = \"\"\"Some say the world will end in fire,\n",
    "Some say in ice.\n",
    "From what I’ve tasted of desire\n",
    "I hold with those who favor fire.\n",
    "But if it had to perish twice,\n",
    "I think I know enough of hate\n",
    "To say that for destruction ice\n",
    "Is also great\n",
    "And would suffice.\"\"\"\n",
    "\n",
    "new_poem = \"\"\"Some say life is but a dream,\n",
    "Some say it's a test.\n",
    "From what I've seen and what I deem,\n",
    "I side with those who see it as a quest.\n",
    "\n",
    "But if it had to end today,\n",
    "I think I know enough of love,\n",
    "To say that though it fades away,\n",
    "It's still what we are made of.\"\"\""
   ]
  },
  {
   "cell_type": "code",
   "execution_count": 4,
   "metadata": {},
   "outputs": [
    {
     "name": "stdout",
     "output_type": "stream",
     "text": [
      "Number of unique words in poem 1: 41\n",
      "Number of unique words in poem 2: 30\n",
      "Unique words in poem 1 but not in poem 2:\n",
      "['also', 'but', 'desire', 'destruction', 'end', 'enough', 'favor', 'fire', 'for', 'from', 'great', 'had', 'hate', 'hold', 'i', 'ice', 'if', 'is', 'it', 'i’ve', 'know', 'perish', 'say', 'some', 'suffice', 'tasted', 'that', 'think', 'those', 'to', 'twice', 'what', 'who', 'will', 'would']\n",
      "Unique words in poem 2 but not in poem 1:\n",
      "['above', 'bright', 'clear', 'cosmos', 'dance', 'dark', 'delight', 'endless', 'far', 'fray', 'galaxies', 'lighting', 'moons', 'near', 'night', 'play', 'shining', 'sky', 'so', 'stars', 'they', 'turns', 'up', 'whispers']\n",
      "Unique words present in both poems:\n",
      "['and', 'in', 'of', 'the', 'with', 'world']\n"
     ]
    }
   ],
   "source": [
    "import string\n",
    "\n",
    "# Function to clean and split text into a set of unique words\n",
    "def get_unique_words(text):\n",
    "    # Convert text to lowercase and remove punctuation\n",
    "    cleaned_text = text.lower().translate(str.maketrans('', '', string.punctuation))\n",
    "    # Split the text into words and return a set of unique words\n",
    "    return set(cleaned_text.split())\n",
    "\n",
    "# Example poems\n",
    "poem1 = \"\"\"Some say the world will end in fire,\n",
    "Some say in ice.\n",
    "From what I’ve tasted of desire\n",
    "I hold with those who favor fire.\n",
    "But if it had to perish twice,\n",
    "I think I know enough of hate\n",
    "To say that for destruction ice\n",
    "Is also great\n",
    "And would suffice.\"\"\"\n",
    "\n",
    "poem2 = \"\"\"In the dark of night,\n",
    "The world turns bright.\n",
    "Stars above, shining with delight,\n",
    "In the sky, they dance and play,\n",
    "Lighting up the endless fray.\n",
    "Galaxies far, and moons so near,\n",
    "Whispers of the cosmos clear.\"\"\"\n",
    "\n",
    "# Create sets for unique words in both poems\n",
    "words_poem1 = get_unique_words(poem1)\n",
    "words_poem2 = get_unique_words(poem2)\n",
    "\n",
    "# Print the number of unique words in each set\n",
    "print(f\"Number of unique words in poem 1: {len(words_poem1)}\")\n",
    "print(f\"Number of unique words in poem 2: {len(words_poem2)}\")\n",
    "\n",
    "# Unique words in poem 1 but not in poem 2\n",
    "unique_to_poem1 = words_poem1 - words_poem2\n",
    "print(\"Unique words in poem 1 but not in poem 2:\")\n",
    "print(sorted(unique_to_poem1))\n",
    "\n",
    "# Unique words in poem 2 but not in poem 1\n",
    "unique_to_poem2 = words_poem2 - words_poem1\n",
    "print(\"Unique words in poem 2 but not in poem 1:\")\n",
    "print(sorted(unique_to_poem2))\n",
    "\n",
    "# Unique words present in both poems\n",
    "common_words = words_poem1 & words_poem2\n",
    "print(\"Unique words present in both poems:\")\n",
    "print(sorted(common_words))\n"
   ]
  },
  {
   "cell_type": "markdown",
   "metadata": {},
   "source": [
    "## Exercise 4: Dictionaries"
   ]
  },
  {
   "cell_type": "markdown",
   "metadata": {},
   "source": [
    "Consider the following dictionary of students with their scores in different subjects. One of the students, Bob, has complained about his score in Philosophy and, after reviewing it, the teacher has decided to update his score to 100. Write a Python program that updates Bob's score in Philosophy to 100 in the dictionary."
   ]
  },
  {
   "cell_type": "markdown",
   "metadata": {},
   "source": [
    "*Recommended External Resources: [Python Dictionary Examples and Methods](https://www.w3schools.com/python/python_dictionaries.asp)*\n"
   ]
  },
  {
   "cell_type": "code",
   "execution_count": 51,
   "metadata": {},
   "outputs": [],
   "source": [
    "grades = {'Alice': {'Physics': 75, 'Math': 85, 'Chemistry': 60, 'Philosophy': 90}, 'Bob': {'Physics': 75, 'Math': 85, 'Chemistry': 60, 'Philosophy': 90}}"
   ]
  },
  {
   "cell_type": "code",
   "execution_count": 5,
   "metadata": {},
   "outputs": [
    {
     "name": "stdout",
     "output_type": "stream",
     "text": [
      "Original scores for Bob: {'Math': 78, 'Science': 82, 'Philosophy': 65}\n",
      "Updated scores for Bob: {'Math': 78, 'Science': 82, 'Philosophy': 100}\n"
     ]
    }
   ],
   "source": [
    "# Define the dictionary of students with their scores in different subjects\n",
    "students_scores = {\n",
    "    'Alice': {'Math': 85, 'Science': 90, 'Philosophy': 88},\n",
    "    'Bob': {'Math': 78, 'Science': 82, 'Philosophy': 65},\n",
    "    'Charlie': {'Math': 92, 'Science': 94, 'Philosophy': 75},\n",
    "    'Diana': {'Math': 89, 'Science': 91, 'Philosophy': 80}\n",
    "}\n",
    "\n",
    "# Print the original scores for Bob\n",
    "print(\"Original scores for Bob:\", students_scores['Bob'])\n",
    "\n",
    "# Update Bob's score in Philosophy to 100\n",
    "students_scores['Bob']['Philosophy'] = 100\n",
    "\n",
    "# Print the updated scores for Bob\n",
    "print(\"Updated scores for Bob:\", students_scores['Bob'])\n"
   ]
  },
  {
   "cell_type": "markdown",
   "metadata": {},
   "source": [
    "## Bonus"
   ]
  },
  {
   "cell_type": "markdown",
   "metadata": {},
   "source": [
    "1. Below are the two lists. Write a Python program to convert them into a dictionary in a way that item from list1 is the key and item from list2 is the value."
   ]
  },
  {
   "cell_type": "markdown",
   "metadata": {},
   "source": [
    "*Hint: Use the zip() function. This function takes two or more iterables (like list, dict, string), aggregates them in a tuple, and returns it. Afterwards, you can use a function that turns a tuple into a dictionary.*"
   ]
  },
  {
   "cell_type": "markdown",
   "metadata": {},
   "source": [
    "*Recommended External Resources: [Python Zip Function](https://www.w3schools.com/python/ref_func_zip.asp)*\n"
   ]
  },
  {
   "cell_type": "code",
   "execution_count": 6,
   "metadata": {},
   "outputs": [
    {
     "name": "stdout",
     "output_type": "stream",
     "text": [
      "{'Physics': 75, 'Math': 85, 'Chemistry': 60, 'Philosophy': 90}\n"
     ]
    }
   ],
   "source": [
    "keys = ['Physics', 'Math', 'Chemistry', 'Philosophy']\n",
    "values = [75, 85, 60,90]\n",
    "\n",
    "# Define the lists\n",
    "keys = ['Physics', 'Math', 'Chemistry', 'Philosophy']\n",
    "values = [75, 85, 60, 90]\n",
    "\n",
    "# Convert the lists into a dictionary\n",
    "dictionary = dict(zip(keys, values))\n",
    "\n",
    "# Print the resulting dictionary\n",
    "print(dictionary)\n"
   ]
  },
  {
   "cell_type": "markdown",
   "metadata": {},
   "source": [
    "2.. Get the subject with the minimum score from the previous dictionary."
   ]
  },
  {
   "cell_type": "markdown",
   "metadata": {},
   "source": [
    "*Hint: Use the built-in function min(). Read about the parameter key.*"
   ]
  },
  {
   "cell_type": "markdown",
   "metadata": {},
   "source": [
    "\n",
    "*Recommended External Resources:*\n",
    "- *[Python Min Function Official Documentation](https://docs.python.org/3.8/library/functions.html#min)*\n",
    "- *[How to use key function in max and min in Python](https://medium.com/analytics-vidhya/how-to-use-key-function-in-max-and-min-in-python-1fdbd661c59c)*"
   ]
  },
  {
   "cell_type": "code",
   "execution_count": 8,
   "metadata": {},
   "outputs": [
    {
     "name": "stdout",
     "output_type": "stream",
     "text": [
      "The subject with the minimum score is 'Chemistry' with a score of 60.\n"
     ]
    }
   ],
   "source": [
    "# Define the dictionary\n",
    "dictionary = {'Physics': 75, 'Math': 85, 'Chemistry': 60, 'Philosophy': 90}\n",
    "\n",
    "# Find the subject with the minimum score\n",
    "min_subject = min(dictionary, key=dictionary.get)\n",
    "\n",
    "# Print the subject with the minimum score\n",
    "print(f\"The subject with the minimum score is '{min_subject}' with a score of {dictionary[min_subject]}.\")\n"
   ]
  }
 ],
 "metadata": {
  "kernelspec": {
   "display_name": "Python 3 (ipykernel)",
   "language": "python",
   "name": "python3"
  },
  "language_info": {
   "codemirror_mode": {
    "name": "ipython",
    "version": 3
   },
   "file_extension": ".py",
   "mimetype": "text/x-python",
   "name": "python",
   "nbconvert_exporter": "python",
   "pygments_lexer": "ipython3",
   "version": "3.9.13"
  }
 },
 "nbformat": 4,
 "nbformat_minor": 4
}
